{
  "metadata": {
    "kernelspec": {
      "name": "xpython",
      "display_name": "Python 3.13 (XPython)",
      "language": "python"
    },
    "language_info": {
      "file_extension": ".py",
      "mimetype": "text/x-python",
      "name": "python",
      "version": "3.13.1"
    }
  },
  "nbformat_minor": 5,
  "nbformat": 4,
  "cells": [
    {
      "id": "e2baaa6d-749d-472f-8a6b-149ecc0e4700",
      "cell_type": "markdown",
      "source": "# Data Science Tools and Ecosystem",
      "metadata": {}
    },
    {
      "id": "af2ba866-5d33-4cff-a447-e4477069477d",
      "cell_type": "markdown",
      "source": "In this notebook, Data Science Tools and Ecosystem are summarized.",
      "metadata": {}
    },
    {
      "id": "f0c309c5-d823-41ce-b837-fd39f334e23c",
      "cell_type": "markdown",
      "source": "Some of the popular languages that Data Scientists use are:\n\n1. Python  \n2. R  \n3. SQL",
      "metadata": {}
    },
    {
      "id": "8cb4e87e-ac6a-4546-89ff-56602ef27de8",
      "cell_type": "markdown",
      "source": "Some of the commonly used libraries used by Data Scientists include:\n\n1. NumPy  \n2. Pandas  \n3. Matplotlib",
      "metadata": {}
    },
    {
      "id": "f2e38c1d-0900-4c87-9db7-7736c04e2cb8",
      "cell_type": "markdown",
      "source": "| Data Science Tools |\n|---------------------|\n| Jupyter Notebook    |\n| RStudio             |\n| Apache Zeppelin     |\n",
      "metadata": {}
    },
    {
      "id": "b5bf290d-f1f0-478c-b5ae-184e7a144290",
      "cell_type": "markdown",
      "source": "### Below are a few examples of evaluating arithmetic expressions in Python.",
      "metadata": {}
    },
    {
      "id": "9849cdb5-883f-4c8e-8780-0d7dffc338a6",
      "cell_type": "code",
      "source": "(3 * 4) + 5",
      "metadata": {
        "trusted": true
      },
      "outputs": [
        {
          "execution_count": 2,
          "output_type": "execute_result",
          "data": {
            "text/plain": "17"
          },
          "metadata": {}
        }
      ],
      "execution_count": 2
    },
    {
      "id": "d2f8e329-3e36-466b-92b7-4ffc355bdc96",
      "cell_type": "code",
      "source": "200 / 60",
      "metadata": {
        "trusted": true
      },
      "outputs": [
        {
          "execution_count": 3,
          "output_type": "execute_result",
          "data": {
            "text/plain": "3.3333333333333335"
          },
          "metadata": {}
        }
      ],
      "execution_count": 3
    },
    {
      "id": "55518461-6490-4fa1-85e4-b1d46c6c6c8d",
      "cell_type": "markdown",
      "source": "**Objectives:**\n\n- List popular languages for Data Science  \n- List commonly used libraries in Data Science  \n- Create tables using markdown  \n- Perform arithmetic operations using Python",
      "metadata": {}
    },
    {
      "id": "4e1610bd-b105-42e7-85f7-5ce44189d511",
      "cell_type": "markdown",
      "source": "## Author\n\nGulkhayo Abdurazzokova",
      "metadata": {}
    },
    {
      "id": "5aecf103-847f-4ac8-9593-aecb97c02b80",
      "cell_type": "code",
      "source": "",
      "metadata": {
        "trusted": true
      },
      "outputs": [],
      "execution_count": null
    }
  ]
}